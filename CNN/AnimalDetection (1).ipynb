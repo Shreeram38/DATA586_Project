{
  "nbformat": 4,
  "nbformat_minor": 0,
  "metadata": {
    "colab": {
      "name": "AnimalDetection.ipynb",
      "provenance": [],
      "collapsed_sections": []
    },
    "kernelspec": {
      "name": "python3",
      "display_name": "Python 3"
    }
  },
  "cells": [
    {
      "cell_type": "code",
      "metadata": {
        "id": "dzUZON5_dMR8",
        "colab_type": "code",
        "colab": {}
      },
      "source": [
        "import pandas as pd\n",
        "import numpy as np \n",
        "import itertools\n",
        "import keras\n",
        "from sklearn import metrics\n",
        "from sklearn.metrics import confusion_matrix\n",
        "from keras.preprocessing.image import ImageDataGenerator, img_to_array, load_img \n",
        "from keras.models import Sequential \n",
        "from keras import optimizers\n",
        "from keras.preprocessing import image\n",
        "from keras.layers import Dropout, Flatten, Dense \n",
        "from keras import applications \n",
        "from keras.utils.np_utils import to_categorical \n",
        "import matplotlib.pyplot as plt \n",
        "import matplotlib.image as mpimg\n",
        "%matplotlib inline\n",
        "import math \n",
        "import datetime\n",
        "import time"
      ],
      "execution_count": 0,
      "outputs": []
    },
    {
      "cell_type": "code",
      "metadata": {
        "id": "KIeO8jHN8Kcq",
        "colab_type": "code",
        "outputId": "dc351cd3-57a8-4c8f-b1fe-beb957f1deec",
        "colab": {
          "base_uri": "https://localhost:8080/",
          "height": 34
        }
      },
      "source": [
        "from google.colab import drive\n",
        "drive.mount('/content/gdrive')"
      ],
      "execution_count": 0,
      "outputs": [
        {
          "output_type": "stream",
          "text": [
            "Mounted at /content/gdrive\n"
          ],
          "name": "stdout"
        }
      ]
    },
    {
      "cell_type": "code",
      "metadata": {
        "id": "bvzCBX9_8Koi",
        "colab_type": "code",
        "outputId": "726b92e3-2de7-4428-8f6b-2677bb25fc53",
        "colab": {
          "base_uri": "https://localhost:8080/",
          "height": 34
        }
      },
      "source": [
        "import os\n",
        "os.chdir(\"/content/gdrive/My Drive/Colab Notebooks/Data\")\n",
        "os.getcwd()"
      ],
      "execution_count": 0,
      "outputs": [
        {
          "output_type": "execute_result",
          "data": {
            "text/plain": [
              "'/content/gdrive/My Drive/Colab Notebooks/Data'"
            ]
          },
          "metadata": {
            "tags": []
          },
          "execution_count": 11
        }
      ]
    },
    {
      "cell_type": "code",
      "metadata": {
        "id": "8kDriGZP9hJ0",
        "colab_type": "code",
        "colab": {}
      },
      "source": [
        "#Default dimensions we found online\n",
        "img_width, img_height = 224, 224 \n",
        " \n",
        "#Create a bottleneck file\n",
        "top_model_weights_path = \"bottleneck_fc_model.h5\"\n",
        "# loading up our datasets\n",
        "\n",
        "path1 = \"/content/gdrive/My Drive/Colab Notebooks/Data/train_data_dir\"\n",
        "path2 = \"/content/gdrive/My Drive/Colab Notebooks/Data/validation_data_dir\"\n",
        "path3 = \"/content/gdrive/My Drive/Colab Notebooks/Data/test_data_dir\"\n",
        "train_data_dir = path1 \n",
        "validation_data_dir = path2\n",
        "test_data_dir = path3 \n",
        " \n",
        "# number of epochs to train top model \n",
        "epochs = 7 #this has been changed after multiple model run \n",
        "# batch size used by flow_from_directory and predict_generator \n",
        "batch_size = 50 "
      ],
      "execution_count": 0,
      "outputs": []
    },
    {
      "cell_type": "code",
      "metadata": {
        "id": "khi7N4fO-wK3",
        "colab_type": "code",
        "outputId": "2444f856-50f7-43e6-b6dd-3a142d7679c3",
        "colab": {
          "base_uri": "https://localhost:8080/",
          "height": 50
        }
      },
      "source": [
        "#Loading vgc16 model\n",
        "vgg16 = applications.VGG16(include_top=False, weights='imagenet')\n",
        "datagen = ImageDataGenerator(rescale=1. / 255) \n",
        "#needed to create the bottleneck .npy files"
      ],
      "execution_count": 0,
      "outputs": [
        {
          "output_type": "stream",
          "text": [
            "Downloading data from https://github.com/fchollet/deep-learning-models/releases/download/v0.1/vgg16_weights_tf_dim_ordering_tf_kernels_notop.h5\n",
            "58892288/58889256 [==============================] - 1s 0us/step\n"
          ],
          "name": "stdout"
        }
      ]
    },
    {
      "cell_type": "code",
      "metadata": {
        "id": "-JWocZ2_--c1",
        "colab_type": "code",
        "outputId": "cf7e4b8f-bd1d-4dd5-f494-73b1f9051cce",
        "colab": {
          "base_uri": "https://localhost:8080/",
          "height": 50
        }
      },
      "source": [
        "start = datetime.datetime.now()\n",
        " \n",
        "generator = datagen.flow_from_directory( \n",
        "    train_data_dir, \n",
        "    target_size=(img_width, img_height), \n",
        "    batch_size=batch_size, \n",
        "    class_mode=None, \n",
        "    shuffle=False) \n",
        " \n",
        "nb_train_samples = len(generator.filenames) \n",
        "num_classes = len(generator.class_indices) \n",
        " \n",
        "predict_size_train = int(math.ceil(nb_train_samples / batch_size)) \n",
        " \n",
        "bottleneck_features_train = vgg16.predict_generator(generator, predict_size_train) \n",
        " \n",
        "np.save(\"bottleneck_features_train.npy\", bottleneck_features_train)\n",
        "end= datetime.datetime.now()\n",
        "elapsed= end-start\n",
        "print (\"Time:\", elapsed)"
      ],
      "execution_count": 0,
      "outputs": [
        {
          "output_type": "stream",
          "text": [
            "Found 4006 images belonging to 10 classes.\n",
            "Time: 0:32:52.257398\n"
          ],
          "name": "stdout"
        }
      ]
    },
    {
      "cell_type": "code",
      "metadata": {
        "id": "Sp5LEkQlJ-OQ",
        "colab_type": "code",
        "outputId": "9e83d1ad-1613-4ede-a409-1b0a7efdae10",
        "colab": {
          "base_uri": "https://localhost:8080/",
          "height": 34
        }
      },
      "source": [
        "#training data\n",
        "generator_top = datagen.flow_from_directory( \n",
        "   train_data_dir, \n",
        "   target_size=(img_width, img_height), \n",
        "   batch_size=batch_size, \n",
        "   class_mode='categorical', \n",
        "   shuffle=False) \n",
        " \n",
        "nb_train_samples = len(generator_top.filenames) \n",
        "num_classes = len(generator_top.class_indices) \n",
        " \n",
        "# load the bottleneck features saved earlier \n",
        "train_data = np.load(\"bottleneck_features_train.npy\") \n",
        " \n",
        "# get the class labels for the training data, in the original order \n",
        "train_labels = generator_top.classes \n",
        " \n",
        "# convert the training labels to categorical vectors \n",
        "train_labels = to_categorical(train_labels, num_classes=num_classes)"
      ],
      "execution_count": 0,
      "outputs": [
        {
          "output_type": "stream",
          "text": [
            "Found 4006 images belonging to 10 classes.\n"
          ],
          "name": "stdout"
        }
      ]
    },
    {
      "cell_type": "code",
      "metadata": {
        "id": "gb558UhDKQMH",
        "colab_type": "code",
        "outputId": "f66be71d-4bae-48c2-da85-58d19310b7a2",
        "colab": {
          "base_uri": "https://localhost:8080/",
          "height": 34
        }
      },
      "source": [
        "#validation data\n",
        "generator_top1 = datagen.flow_from_directory( \n",
        "   validation_data_dir, \n",
        "   target_size=(img_width, img_height), \n",
        "   batch_size=batch_size, \n",
        "   class_mode='categorical', \n",
        "   shuffle=False) \n",
        " \n",
        "nb_validation_samples = len(generator_top1.filenames) \n",
        "num_classes1 = len(generator_top1.class_indices) \n",
        " \n",
        "# load the bottleneck features saved earlier \n",
        "validation_data = np.load(\"bottleneck_features_train.npy\") \n",
        " \n",
        "# get the class labels for the validation data, in the original order \n",
        "validation_labels = generator_top.classes \n",
        " \n",
        "# convert the validation labels to categorical vectors \n",
        "validation_labels = to_categorical(validation_labels, num_classes=num_classes1)"
      ],
      "execution_count": 0,
      "outputs": [
        {
          "output_type": "stream",
          "text": [
            "Found 399 images belonging to 10 classes.\n"
          ],
          "name": "stdout"
        }
      ]
    },
    {
      "cell_type": "code",
      "metadata": {
        "id": "myHckXQ5LP3z",
        "colab_type": "code",
        "outputId": "b13a9bff-86a1-4609-fdc9-ee4e2bab0407",
        "colab": {
          "base_uri": "https://localhost:8080/",
          "height": 34
        }
      },
      "source": [
        "#test data\n",
        "generator_top2 = datagen.flow_from_directory( \n",
        "   test_data_dir, \n",
        "   target_size=(img_width, img_height), \n",
        "   batch_size=batch_size, \n",
        "   class_mode='categorical', \n",
        "   shuffle=False) \n",
        " \n",
        "nb_test_samples = len(generator_top2.filenames) \n",
        "num_classes2 = len(generator_top2.class_indices) \n",
        " \n",
        "# load the bottleneck features saved earlier \n",
        "test_data = np.load(\"bottleneck_features_train.npy\") \n",
        " \n",
        "# get the class labels for the test data, in the original order \n",
        "test_labels = generator_top.classes \n",
        " \n",
        "# convert the test labels to categorical vectors \n",
        "test_labels = to_categorical(test_labels, num_classes=num_classes2)"
      ],
      "execution_count": 0,
      "outputs": [
        {
          "output_type": "stream",
          "text": [
            "Found 10 images belonging to 10 classes.\n"
          ],
          "name": "stdout"
        }
      ]
    },
    {
      "cell_type": "code",
      "metadata": {
        "id": "fYh5OEzPLw3K",
        "colab_type": "code",
        "outputId": "244c1c68-62a0-4376-c4cb-f6ec58f7c666",
        "colab": {
          "base_uri": "https://localhost:8080/",
          "height": 390
        }
      },
      "source": [
        "start = datetime.datetime.now()\n",
        "model = Sequential() \n",
        "model.add(Flatten(input_shape=train_data.shape[1:])) \n",
        "model.add(Dense(100, activation=keras.layers.LeakyReLU(alpha=0.3))) \n",
        "model.add(Dropout(0.5)) \n",
        "model.add(Dense(50, activation=keras.layers.LeakyReLU(alpha=0.3))) \n",
        "model.add(Dropout(0.3)) \n",
        "model.add(Dense(num_classes, activation=\"softmax\"))\n",
        "model.compile(loss=\"categorical_crossentropy\",\n",
        "   optimizer=optimizers.RMSprop(lr=1e-4),\n",
        "   metrics=[\"acc\"])\n",
        "history = model.fit(train_data, train_labels, \n",
        "   epochs=7,\n",
        "   batch_size=batch_size, \n",
        "   validation_data=(validation_data, validation_labels))\n",
        "model.save_weights(top_model_weights_path)\n",
        "(eval_loss, eval_accuracy) = model.evaluate( \n",
        "    validation_data, validation_labels, batch_size=batch_size,verbose=1)\n",
        "print(\"[INFO] accuracy: {:.2f}%\".format(eval_accuracy * 100)) \n",
        "print(\"[INFO] Loss: {}\".format(eval_loss))\n",
        "end= datetime.datetime.now()\n",
        "elapsed= end-start\n",
        "print (\"Time:\", elapsed)"
      ],
      "execution_count": 0,
      "outputs": [
        {
          "output_type": "stream",
          "text": [
            "/usr/local/lib/python3.6/dist-packages/keras/activations.py:235: UserWarning: Do not pass a layer instance (such as LeakyReLU) as the activation argument of another layer. Instead, advanced activation layers should be used just like any other layer in a model.\n",
            "  identifier=identifier.__class__.__name__))\n"
          ],
          "name": "stderr"
        },
        {
          "output_type": "stream",
          "text": [
            "Train on 4006 samples, validate on 4006 samples\n",
            "Epoch 1/7\n",
            "4006/4006 [==============================] - 4s 927us/step - loss: 1.7532 - acc: 0.3854 - val_loss: 1.3652 - val_acc: 0.4750\n",
            "Epoch 2/7\n",
            "4006/4006 [==============================] - 3s 868us/step - loss: 1.1852 - acc: 0.6053 - val_loss: 0.8996 - val_acc: 0.7322\n",
            "Epoch 3/7\n",
            "4006/4006 [==============================] - 4s 874us/step - loss: 0.9675 - acc: 0.6760 - val_loss: 0.6184 - val_acc: 0.8255\n",
            "Epoch 4/7\n",
            "4006/4006 [==============================] - 3s 870us/step - loss: 0.7973 - acc: 0.7369 - val_loss: 0.5084 - val_acc: 0.8662\n",
            "Epoch 5/7\n",
            "4006/4006 [==============================] - 3s 862us/step - loss: 0.7026 - acc: 0.7708 - val_loss: 0.6240 - val_acc: 0.7886\n",
            "Epoch 6/7\n",
            "4006/4006 [==============================] - 4s 883us/step - loss: 0.6145 - acc: 0.7993 - val_loss: 0.3778 - val_acc: 0.8799\n",
            "Epoch 7/7\n",
            "4006/4006 [==============================] - 3s 863us/step - loss: 0.5366 - acc: 0.8193 - val_loss: 0.3214 - val_acc: 0.9076\n",
            "4006/4006 [==============================] - 1s 165us/step\n",
            "[INFO] accuracy: 90.76%\n",
            "[INFO] Loss: 0.3213794634371059\n",
            "Time: 0:00:26.462688\n"
          ],
          "name": "stdout"
        }
      ]
    },
    {
      "cell_type": "code",
      "metadata": {
        "id": "AWsXpstlVij_",
        "colab_type": "code",
        "outputId": "e6cc5b75-8def-442d-ad67-65ade76410ce",
        "colab": {
          "base_uri": "https://localhost:8080/",
          "height": 573
        }
      },
      "source": [
        "acc = history.history[\"acc\"]\n",
        "val_acc = history.history[\"val_acc\"]\n",
        "loss = history.history[\"loss\"]\n",
        "val_loss = history.history[\"val_loss\"]\n",
        "epochs = range(len(acc))\n",
        "plt.plot(epochs, acc, \"r\", label=\"Training acc\")\n",
        "plt.plot(epochs, val_acc, \"b\", label=\"Validation acc\")\n",
        "plt.title(\"Training and validation accuracy\")\n",
        "plt.ylabel(\"accuracy\") \n",
        "plt.xlabel(\"epoch\")\n",
        "plt.legend()\n",
        "plt.figure()\n",
        "plt.plot(epochs, loss, \"r\", label=\"Training loss\")\n",
        "plt.plot(epochs, val_loss, \"b\", label=\"Validation loss\")\n",
        "plt.title(\"Training and validation loss\")\n",
        "plt.ylabel(\"Loss\") \n",
        "plt.xlabel(\"epoch\")\n",
        "plt.legend()\n",
        "plt.show()"
      ],
      "execution_count": 0,
      "outputs": [
        {
          "output_type": "display_data",
          "data": {
            "image/png": "[encoded data removed]",
            "text/plain": [
              "<Figure size 432x288 with 1 Axes>"
            ]
          },
          "metadata": {
            "tags": [],
            "needs_background": "light"
          }
        },
        {
          "output_type": "display_data",
          "data": {
            "image/png": "[encoded data removed]",
            "text/plain": [
              "<Figure size 432x288 with 1 Axes>"
            ]
          },
          "metadata": {
            "tags": [],
            "needs_background": "light"
          }
        }
      ]
    },
    {
      "cell_type": "code",
      "metadata": {
        "id": "oAQHUov4V9zf",
        "colab_type": "code",
        "outputId": "39ba9b65-78a8-4cfd-cdd2-3bfaad33ce6f",
        "colab": {
          "base_uri": "https://localhost:8080/",
          "height": 50
        }
      },
      "source": [
        "model.evaluate(test_data,test_labels)"
      ],
      "execution_count": 0,
      "outputs": [
        {
          "output_type": "stream",
          "text": [
            "4006/4006 [==============================] - 1s 202us/step\n"
          ],
          "name": "stdout"
        },
        {
          "output_type": "execute_result",
          "data": {
            "text/plain": [
              "[0.3213794664835489, 0.9076385498046875]"
            ]
          },
          "metadata": {
            "tags": []
          },
          "execution_count": 22
        }
      ]
    },
    {
      "cell_type": "code",
      "metadata": {
        "id": "geWnnJN6WKVf",
        "colab_type": "code",
        "outputId": "d1ef3a2e-38cc-4278-d94c-f9e3fcdca558",
        "colab": {
          "base_uri": "https://localhost:8080/",
          "height": 134
        }
      },
      "source": [
        "preds = np.round(model.predict(test_data),0)\n",
        "print(\"rounded test_labels\",preds)"
      ],
      "execution_count": 0,
      "outputs": [
        {
          "output_type": "stream",
          "text": [
            "rounded test_labels [[1. 0. 0. ... 0. 0. 0.]\n",
            " [1. 0. 0. ... 0. 0. 0.]\n",
            " [1. 0. 0. ... 0. 0. 0.]\n",
            " ...\n",
            " [0. 0. 0. ... 0. 0. 1.]\n",
            " [0. 0. 0. ... 0. 0. 1.]\n",
            " [0. 0. 0. ... 0. 0. 1.]]\n"
          ],
          "name": "stdout"
        }
      ]
    },
    {
      "cell_type": "code",
      "metadata": {
        "id": "ukyKryTJWKaY",
        "colab_type": "code",
        "outputId": "34d5e3ed-f622-4f74-9515-a918299761c6",
        "colab": {
          "base_uri": "https://localhost:8080/",
          "height": 373
        }
      },
      "source": [
        "animals=['Cat','Chicken','Cow','Dog','Elephant','Horse','sheep','Spider','Squirrel','Butterfly']\n",
        "classification_matrics = metrics.classification_report(test_labels, preds,target_names=animals)\n",
        "print(classification_matrics)"
      ],
      "execution_count": 0,
      "outputs": [
        {
          "output_type": "stream",
          "text": [
            "              precision    recall  f1-score   support\n",
            "\n",
            "         Cat       0.99      0.91      0.95       400\n",
            "     Chicken       0.99      0.74      0.85       403\n",
            "         Cow       1.00      0.82      0.90       400\n",
            "         Dog       1.00      0.79      0.88       400\n",
            "    Elephant       0.90      0.91      0.90       400\n",
            "       Horse       0.99      0.92      0.95       400\n",
            "       sheep       0.97      0.93      0.95       400\n",
            "      Spider       0.99      0.69      0.81       400\n",
            "    Squirrel       0.96      0.86      0.91       403\n",
            "   Butterfly       0.81      0.96      0.88       400\n",
            "\n",
            "   micro avg       0.95      0.85      0.90      4006\n",
            "   macro avg       0.96      0.85      0.90      4006\n",
            "weighted avg       0.96      0.85      0.90      4006\n",
            " samples avg       0.85      0.85      0.85      4006\n",
            "\n"
          ],
          "name": "stdout"
        },
        {
          "output_type": "stream",
          "text": [
            "/usr/local/lib/python3.6/dist-packages/sklearn/metrics/_classification.py:1272: UndefinedMetricWarning: Precision and F-score are ill-defined and being set to 0.0 in samples with no predicted labels. Use `zero_division` parameter to control this behavior.\n",
            "  _warn_prf(average, modifier, msg_start, len(result))\n"
          ],
          "name": "stderr"
        }
      ]
    }
  ]
}